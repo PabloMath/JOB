{
  "nbformat": 4,
  "nbformat_minor": 0,
  "metadata": {
    "colab": {
      "name": "Ejercicio numero 2",
      "provenance": [],
      "authorship_tag": "ABX9TyMLmWkI14L2tLpHWzOOo2JB",
      "include_colab_link": true
    },
    "kernelspec": {
      "name": "python3",
      "display_name": "Python 3"
    },
    "language_info": {
      "name": "python"
    }
  },
  "cells": [
    {
      "cell_type": "markdown",
      "metadata": {
        "id": "view-in-github",
        "colab_type": "text"
      },
      "source": [
        "<a href=\"https://colab.research.google.com/github/PabloMath/JOB/blob/main/Prediccion%20Redes%20Neuronales.ipynb\" target=\"_parent\"><img src=\"https://colab.research.google.com/assets/colab-badge.svg\" alt=\"Open In Colab\"/></a>"
      ]
    },
    {
      "cell_type": "markdown",
      "source": [
        "# TALLER 2 DESGLOSE\n",
        "\n",
        "Prediccion de series temporales NN-Multivariante\n"
      ],
      "metadata": {
        "id": "xtADJmmfrurS"
      }
    },
    {
      "cell_type": "code",
      "source": [
        "import pandas as pd                                 \n",
        "import numpy as np\n",
        "import matplotlib.pylab as plt\n",
        "%matplotlib inline\n",
        "plt.rcParams[\"figure.figsize\"]=(16,9)\n",
        "plt.style.use(\"fast\")\n",
        "\n",
        "from keras.models import Sequential\n",
        "from keras.layers import Dense,Activation,Flatten\n",
        "from sklearn.preprocessing import MinMaxScaler"
      ],
      "metadata": {
        "id": "zIPvG4KF8lXF"
      },
      "execution_count": null,
      "outputs": []
    },
    {
      "cell_type": "code",
      "source": [
        "##Cargando dataset\n",
        "df=pd.read_csv(\"time_series.csv\",parse_dates=[0],header=None,index_col=0,names=[\"fecha\",\"unidades\"])\n",
        "df"
      ],
      "metadata": {
        "id": "5TTalFap9Ntx"
      },
      "execution_count": null,
      "outputs": []
    },
    {
      "cell_type": "code",
      "source": [
        "## Cargamos datos categoricos:Dia y mes\n",
        "df[\"weekday\"]=[x.weekday() for x in df.index]\n",
        "df[\"month\"]=[x.month for x in df.index]\n",
        "df.head()"
      ],
      "metadata": {
        "id": "22FqcvsG-PVq"
      },
      "execution_count": null,
      "outputs": []
    },
    {
      "cell_type": "code",
      "source": [
        "## descripcion \n",
        "df.describe()"
      ],
      "metadata": {
        "id": "gL2di2RW-vbp"
      },
      "execution_count": null,
      "outputs": []
    },
    {
      "cell_type": "code",
      "source": [
        "## procesado de los datos\n",
        "# convertir series a aprendizaje supervisado\n",
        "\n",
        "def series_to_supervised(data,n_in=1,n_out=1,dropnan=True):\n",
        "  n_vars = 1 if type(data) is list else data.shape[1]\n",
        "  df= pd.DataFrame(data)\n",
        "  cols, names=list(), list()\n",
        "  \n",
        "  #aporte secuencia (t-n,...,t-1)\n",
        "  for i in range(n_in,0,-1):\n",
        "    cols.append(df.shift(i))\n",
        "    names+=[(\"var%d(t-%d)\" % (j+1, i)) for j in range(n_vars)]\n",
        "  \n",
        "  #Pronostico secuencia (t, t+1, ..., t+n)\n",
        "  for i in range(0, n_out):\n",
        "    cols.append(df.shift(-i))\n",
        "    if i==0:\n",
        "      names +=[(\"var%d(t)\" % (j+1)) for j in range(n_vars)]\n",
        "    else:\n",
        "      names += [(\"var%d(t+%d)\" % (j+1,i)) for j in range(n_vars)]\n",
        "  \n",
        "  # colocando todo junto\n",
        "  agg= pd.concat(cols, axis=1)\n",
        "  agg.columns=names\n",
        "\n",
        "  # soltar filas con NaN values\n",
        "  if dropnan:\n",
        "    agg.dropna(inplace=True)\n",
        "  return agg"
      ],
      "metadata": {
        "id": "yMIzil-Z-2ha"
      },
      "execution_count": null,
      "outputs": []
    },
    {
      "cell_type": "code",
      "source": [
        "PASOS=7\n",
        "\n",
        "# Cargando dataset\n",
        "values=df[\"unidades\"].values\n",
        "\n",
        "# asegurandonos que todo el data set este float\n",
        "values=values.astype(\"float32\")\n",
        "\n",
        "#normalizar caracteristicas\n",
        "scaler=MinMaxScaler(feature_range=(-1,1))\n",
        "values=values.reshape(-1,1)                ##se hace porque estamos en una sola dimension\n",
        "scaled=scaler.fit_transform(values)\n",
        "\n",
        "df[\"scaled\"]= scaled\n",
        "scaledMerge=df.drop(\"unidades\",axis=1)\n",
        "#print(scaledMerge.values)\n",
        "\n",
        "#imprime (scaledMerge.values)\n",
        "\n",
        "# forma como aprendizaje supervisado \n",
        "reframed=series_to_supervised(scaledMerge,PASOS,1)\n",
        "reframed.head()"
      ],
      "metadata": {
        "id": "UYKQCmI4BQcD"
      },
      "execution_count": null,
      "outputs": []
    },
    {
      "cell_type": "code",
      "source": [
        "## dividimos el set de entrenamiento validacion\n",
        "newReframed=reframed.drop([\"var1(t)\",\"var2(t)\"],axis=1)\n",
        "print(newReframed.shape)\n",
        "newReframed.head()"
      ],
      "metadata": {
        "id": "J23QTNLQGcD5"
      },
      "execution_count": null,
      "outputs": []
    },
    {
      "cell_type": "code",
      "source": [
        "# separar en tren y test juntos\n",
        "values=newReframed.values\n",
        "n_train_days=315+289-(30+PASOS)\n",
        "train=values[:n_train_days,:]\n",
        "test=values[n_train_days:,:]\n",
        "\n",
        "# separar en entradas and salidas\n",
        "x_train,y_train=train[:,:-1],train[:,-1]\n",
        "x_val,y_val=test[:,:-1],test[:,-1]\n",
        "\n",
        "# remodelar entradas a ser 3D [samples, timesteps, features]\n",
        "x_train=x_train.reshape((x_train.shape[0],1,x_train.shape[1]))\n",
        "x_val=x_val.reshape((x_val.shape[0],1,x_val.shape[1]))\n",
        "print(x_train.shape,y_train.shape,x_val.shape,y_val.shape)"
      ],
      "metadata": {
        "id": "O-W6JTtcHLVQ"
      },
      "execution_count": null,
      "outputs": []
    },
    {
      "cell_type": "markdown",
      "source": [
        "****CREAMOS EL MODELO DE RED NEURONAL****\n",
        "\n",
        "---\n",
        "Utilizando una red Feedforward\n",
        "Como entradas son 21 columnas (7 pasos por 3 variables)"
      ],
      "metadata": {
        "id": "iDMzeT0PK6uq"
      }
    },
    {
      "cell_type": "code",
      "source": [
        "def crear_modeloFF():\n",
        "  model = Sequential()\n",
        "  model.add(Dense(PASOS,input_shape=(1,PASOS*3),activation=\"tanh\"))\n",
        "  model.add(Flatten())\n",
        "  model.add(Dense(1,activation=\"tanh\"))\n",
        "  model.compile(loss=\"mean_absolute_error\",optimizer=\"Adam\",metrics=[\"mse\"])\n",
        "  model.summary()\n",
        "  return model"
      ],
      "metadata": {
        "id": "K6lqzOosLQF2"
      },
      "execution_count": null,
      "outputs": []
    },
    {
      "cell_type": "code",
      "source": [
        "#Entrenando nuestra maquina\n",
        "EPOCHS=40\n",
        "model = crear_modeloFF()\n",
        "history=model.fit(x_train,y_train,epochs=EPOCHS,validation_data=(x_val,y_val),batch_size=PASOS)"
      ],
      "metadata": {
        "id": "_nzy4qHBv2Zb"
      },
      "execution_count": null,
      "outputs": []
    },
    {
      "cell_type": "markdown",
      "source": [
        "**GRAFICOS**\n",
        "\n",
        "---\n",
        "\n"
      ],
      "metadata": {
        "id": "0kdOujm2ytcg"
      }
    },
    {
      "cell_type": "code",
      "source": [
        "results=model.predict(x_val)\n",
        "print(len(results))\n",
        "plt.scatter(range(len(y_val)),y_val,c=\"g\")\n",
        "plt.scatter(range(len(results)),results,c=\"r\")\n",
        "plt.title(\"validate\")\n",
        "plt.show()"
      ],
      "metadata": {
        "colab": {
          "base_uri": "https://localhost:8080/",
          "height": 570
        },
        "id": "sqTx67gzyA_L",
        "outputId": "ce3cf8dd-11f2-42ea-f289-954890f9ce2f"
      },
      "execution_count": null,
      "outputs": [
        {
          "output_type": "stream",
          "name": "stdout",
          "text": [
            "30\n"
          ]
        },
        {
          "output_type": "display_data",
          "data": {
            "image/png": "[encoded data removed]",
            "text/plain": [
              "<Figure size 1152x648 with 1 Axes>"
            ]
          },
          "metadata": {
            "needs_background": "light"
          }
        }
      ]
    },
    {
      "cell_type": "code",
      "source": [
        "plt.ylim(0.12,0.35)\n",
        "plt.plot(history.history[\"loss\"])\n",
        "plt.title(\"loss\")\n",
        "plt.plot(history.history[\"val_loss\"])\n",
        "plt.title(\"validate loss\")\n",
        "plt.show()"
      ],
      "metadata": {
        "colab": {
          "base_uri": "https://localhost:8080/",
          "height": 553
        },
        "id": "FFZGbKOUyq6Z",
        "outputId": "2155e43c-036c-427d-9cdb-d67408b6e397"
      },
      "execution_count": null,
      "outputs": [
        {
          "output_type": "display_data",
          "data": {
            "image/png": "[encoded data removed]",
            "text/plain": [
              "<Figure size 1152x648 with 1 Axes>"
            ]
          },
          "metadata": {
            "needs_background": "light"
          }
        }
      ]
    },
    {
      "cell_type": "code",
      "source": [
        "plt.ylim(0.01,0.18)\n",
        "plt.title(\"Accuracy\")\n",
        "plt.plot(history.history[\"mse\"])\n",
        "plt.show()"
      ],
      "metadata": {
        "colab": {
          "base_uri": "https://localhost:8080/",
          "height": 553
        },
        "id": "-iFq1-gCzF4i",
        "outputId": "a71481a6-3a8c-4fbb-87b3-b0d25d743797"
      },
      "execution_count": null,
      "outputs": [
        {
          "output_type": "display_data",
          "data": {
            "image/png": "[encoded data removed]",
            "text/plain": [
              "<Figure size 1152x648 with 1 Axes>"
            ]
          },
          "metadata": {
            "needs_background": "light"
          }
        }
      ]
    },
    {
      "cell_type": "code",
      "source": [
        "compara=pd.DataFrame(np.array([y_val,[x[0] for x in results]]).transpose())\n",
        "compara.columns=[\"real\",\"prediccion\"]\n",
        "\n",
        "inverted=scaler.inverse_transform(compara.values)\n",
        "\n",
        "compara2=pd.DataFrame(inverted)\n",
        "compara2.columns=[\"real\",\"prediccion\"]\n",
        "compara2[\"diferencia\"]=compara2[\"real\"]-compara2[\"prediccion\"]\n",
        "compara2.head(10)"
      ],
      "metadata": {
        "colab": {
          "base_uri": "https://localhost:8080/",
          "height": 362
        },
        "id": "gRjX1vdFzoIZ",
        "outputId": "c99c348c-271b-4309-9289-22745cdc925c"
      },
      "execution_count": null,
      "outputs": [
        {
          "output_type": "execute_result",
          "data": {
            "text/html": [
              "<div>\n",
              "<style scoped>\n",
              "    .dataframe tbody tr th:only-of-type {\n",
              "        vertical-align: middle;\n",
              "    }\n",
              "\n",
              "    .dataframe tbody tr th {\n",
              "        vertical-align: top;\n",
              "    }\n",
              "\n",
              "    .dataframe thead th {\n",
              "        text-align: right;\n",
              "    }\n",
              "</style>\n",
              "<table border=\"1\" class=\"dataframe\">\n",
              "  <thead>\n",
              "    <tr style=\"text-align: right;\">\n",
              "      <th></th>\n",
              "      <th>real</th>\n",
              "      <th>prediccion</th>\n",
              "      <th>diferencia</th>\n",
              "    </tr>\n",
              "  </thead>\n",
              "  <tbody>\n",
              "    <tr>\n",
              "      <th>0</th>\n",
              "      <td>252.000006</td>\n",
              "      <td>228.414150</td>\n",
              "      <td>23.585855</td>\n",
              "    </tr>\n",
              "    <tr>\n",
              "      <th>1</th>\n",
              "      <td>220.000002</td>\n",
              "      <td>215.776182</td>\n",
              "      <td>4.223819</td>\n",
              "    </tr>\n",
              "    <tr>\n",
              "      <th>2</th>\n",
              "      <td>296.000009</td>\n",
              "      <td>215.348777</td>\n",
              "      <td>80.651232</td>\n",
              "    </tr>\n",
              "    <tr>\n",
              "      <th>3</th>\n",
              "      <td>64.999995</td>\n",
              "      <td>207.367320</td>\n",
              "      <td>-142.367325</td>\n",
              "    </tr>\n",
              "    <tr>\n",
              "      <th>4</th>\n",
              "      <td>212.999999</td>\n",
              "      <td>215.990979</td>\n",
              "      <td>-2.990980</td>\n",
              "    </tr>\n",
              "    <tr>\n",
              "      <th>5</th>\n",
              "      <td>95.999996</td>\n",
              "      <td>137.367352</td>\n",
              "      <td>-41.367356</td>\n",
              "    </tr>\n",
              "    <tr>\n",
              "      <th>6</th>\n",
              "      <td>274.999986</td>\n",
              "      <td>261.380957</td>\n",
              "      <td>13.619029</td>\n",
              "    </tr>\n",
              "    <tr>\n",
              "      <th>7</th>\n",
              "      <td>201.000000</td>\n",
              "      <td>213.289163</td>\n",
              "      <td>-12.289163</td>\n",
              "    </tr>\n",
              "    <tr>\n",
              "      <th>8</th>\n",
              "      <td>165.000001</td>\n",
              "      <td>227.403727</td>\n",
              "      <td>-62.403726</td>\n",
              "    </tr>\n",
              "    <tr>\n",
              "      <th>9</th>\n",
              "      <td>162.999996</td>\n",
              "      <td>202.148511</td>\n",
              "      <td>-39.148515</td>\n",
              "    </tr>\n",
              "  </tbody>\n",
              "</table>\n",
              "</div>"
            ],
            "text/plain": [
              "         real  prediccion  diferencia\n",
              "0  252.000006  228.414150   23.585855\n",
              "1  220.000002  215.776182    4.223819\n",
              "2  296.000009  215.348777   80.651232\n",
              "3   64.999995  207.367320 -142.367325\n",
              "4  212.999999  215.990979   -2.990980\n",
              "5   95.999996  137.367352  -41.367356\n",
              "6  274.999986  261.380957   13.619029\n",
              "7  201.000000  213.289163  -12.289163\n",
              "8  165.000001  227.403727  -62.403726\n",
              "9  162.999996  202.148511  -39.148515"
            ]
          },
          "metadata": {},
          "execution_count": 15
        }
      ]
    },
    {
      "cell_type": "code",
      "source": [
        "compara2.describe()"
      ],
      "metadata": {
        "colab": {
          "base_uri": "https://localhost:8080/",
          "height": 299
        },
        "id": "cvleSGN70Y9i",
        "outputId": "71511dab-f100-4798-aa59-d408ac05f0c1"
      },
      "execution_count": null,
      "outputs": [
        {
          "output_type": "execute_result",
          "data": {
            "text/html": [
              "<div>\n",
              "<style scoped>\n",
              "    .dataframe tbody tr th:only-of-type {\n",
              "        vertical-align: middle;\n",
              "    }\n",
              "\n",
              "    .dataframe tbody tr th {\n",
              "        vertical-align: top;\n",
              "    }\n",
              "\n",
              "    .dataframe thead th {\n",
              "        text-align: right;\n",
              "    }\n",
              "</style>\n",
              "<table border=\"1\" class=\"dataframe\">\n",
              "  <thead>\n",
              "    <tr style=\"text-align: right;\">\n",
              "      <th></th>\n",
              "      <th>real</th>\n",
              "      <th>prediccion</th>\n",
              "      <th>diferencia</th>\n",
              "    </tr>\n",
              "  </thead>\n",
              "  <tbody>\n",
              "    <tr>\n",
              "      <th>count</th>\n",
              "      <td>30.000000</td>\n",
              "      <td>30.000000</td>\n",
              "      <td>30.000000</td>\n",
              "    </tr>\n",
              "    <tr>\n",
              "      <th>mean</th>\n",
              "      <td>191.633332</td>\n",
              "      <td>211.850014</td>\n",
              "      <td>-20.216681</td>\n",
              "    </tr>\n",
              "    <tr>\n",
              "      <th>std</th>\n",
              "      <td>57.580817</td>\n",
              "      <td>22.828758</td>\n",
              "      <td>51.519418</td>\n",
              "    </tr>\n",
              "    <tr>\n",
              "      <th>min</th>\n",
              "      <td>64.999995</td>\n",
              "      <td>137.367352</td>\n",
              "      <td>-168.051684</td>\n",
              "    </tr>\n",
              "    <tr>\n",
              "      <th>25%</th>\n",
              "      <td>169.000000</td>\n",
              "      <td>203.696038</td>\n",
              "      <td>-40.371164</td>\n",
              "    </tr>\n",
              "    <tr>\n",
              "      <th>50%</th>\n",
              "      <td>200.499998</td>\n",
              "      <td>210.063837</td>\n",
              "      <td>-9.791808</td>\n",
              "    </tr>\n",
              "    <tr>\n",
              "      <th>75%</th>\n",
              "      <td>220.000002</td>\n",
              "      <td>216.844643</td>\n",
              "      <td>4.680741</td>\n",
              "    </tr>\n",
              "    <tr>\n",
              "      <th>max</th>\n",
              "      <td>296.000009</td>\n",
              "      <td>261.380957</td>\n",
              "      <td>80.651232</td>\n",
              "    </tr>\n",
              "  </tbody>\n",
              "</table>\n",
              "</div>"
            ],
            "text/plain": [
              "             real  prediccion  diferencia\n",
              "count   30.000000   30.000000   30.000000\n",
              "mean   191.633332  211.850014  -20.216681\n",
              "std     57.580817   22.828758   51.519418\n",
              "min     64.999995  137.367352 -168.051684\n",
              "25%    169.000000  203.696038  -40.371164\n",
              "50%    200.499998  210.063837   -9.791808\n",
              "75%    220.000002  216.844643    4.680741\n",
              "max    296.000009  261.380957   80.651232"
            ]
          },
          "metadata": {},
          "execution_count": 16
        }
      ]
    },
    {
      "cell_type": "code",
      "source": [
        "compara2[\"real\"].plot()\n",
        "compara2[\"prediccion\"].plot()"
      ],
      "metadata": {
        "colab": {
          "base_uri": "https://localhost:8080/",
          "height": 554
        },
        "id": "_yx7t15T0rTp",
        "outputId": "6c3a818d-8a10-4e09-8c52-adb0b750037e"
      },
      "execution_count": null,
      "outputs": [
        {
          "output_type": "execute_result",
          "data": {
            "text/plain": [
              "<matplotlib.axes._subplots.AxesSubplot at 0x7f133a42fc50>"
            ]
          },
          "metadata": {},
          "execution_count": 17
        },
        {
          "output_type": "display_data",
          "data": {
            "image/png": "[encoded data removed]",
            "text/plain": [
              "<Figure size 1152x648 with 1 Axes>"
            ]
          },
          "metadata": {
            "needs_background": "light"
          }
        }
      ]
    },
    {
      "cell_type": "markdown",
      "source": [
        "**PRONOSTICO**\n",
        "\n",
        "---\n",
        "a partir de la ultima semana de noviembre 2018, intentaremos predecir la primer semana de diciembre\n"
      ],
      "metadata": {
        "id": "N0TY6z5a24UU"
      }
    },
    {
      "cell_type": "code",
      "source": [
        "ultimosDias=df[\"2018-11-16\":\"2018-11-30\"]\n",
        "ultimosDias"
      ],
      "metadata": {
        "colab": {
          "base_uri": "https://localhost:8080/",
          "height": 518
        },
        "id": "UxC0c-Ku08aq",
        "outputId": "e65ebf2e-3ca5-4b7d-ec2c-ecda1a771dd6"
      },
      "execution_count": null,
      "outputs": [
        {
          "output_type": "execute_result",
          "data": {
            "text/html": [
              "<div>\n",
              "<style scoped>\n",
              "    .dataframe tbody tr th:only-of-type {\n",
              "        vertical-align: middle;\n",
              "    }\n",
              "\n",
              "    .dataframe tbody tr th {\n",
              "        vertical-align: top;\n",
              "    }\n",
              "\n",
              "    .dataframe thead th {\n",
              "        text-align: right;\n",
              "    }\n",
              "</style>\n",
              "<table border=\"1\" class=\"dataframe\">\n",
              "  <thead>\n",
              "    <tr style=\"text-align: right;\">\n",
              "      <th></th>\n",
              "      <th>unidades</th>\n",
              "      <th>weekday</th>\n",
              "      <th>month</th>\n",
              "      <th>scaled</th>\n",
              "    </tr>\n",
              "    <tr>\n",
              "      <th>fecha</th>\n",
              "      <th></th>\n",
              "      <th></th>\n",
              "      <th></th>\n",
              "      <th></th>\n",
              "    </tr>\n",
              "  </thead>\n",
              "  <tbody>\n",
              "    <tr>\n",
              "      <th>2018-11-16</th>\n",
              "      <td>152</td>\n",
              "      <td>4</td>\n",
              "      <td>11</td>\n",
              "      <td>-0.625926</td>\n",
              "    </tr>\n",
              "    <tr>\n",
              "      <th>2018-11-17</th>\n",
              "      <td>111</td>\n",
              "      <td>5</td>\n",
              "      <td>11</td>\n",
              "      <td>-0.777778</td>\n",
              "    </tr>\n",
              "    <tr>\n",
              "      <th>2018-11-19</th>\n",
              "      <td>207</td>\n",
              "      <td>0</td>\n",
              "      <td>11</td>\n",
              "      <td>-0.422222</td>\n",
              "    </tr>\n",
              "    <tr>\n",
              "      <th>2018-11-20</th>\n",
              "      <td>206</td>\n",
              "      <td>1</td>\n",
              "      <td>11</td>\n",
              "      <td>-0.425926</td>\n",
              "    </tr>\n",
              "    <tr>\n",
              "      <th>2018-11-21</th>\n",
              "      <td>183</td>\n",
              "      <td>2</td>\n",
              "      <td>11</td>\n",
              "      <td>-0.511111</td>\n",
              "    </tr>\n",
              "    <tr>\n",
              "      <th>2018-11-22</th>\n",
              "      <td>200</td>\n",
              "      <td>3</td>\n",
              "      <td>11</td>\n",
              "      <td>-0.448148</td>\n",
              "    </tr>\n",
              "    <tr>\n",
              "      <th>2018-11-23</th>\n",
              "      <td>187</td>\n",
              "      <td>4</td>\n",
              "      <td>11</td>\n",
              "      <td>-0.496296</td>\n",
              "    </tr>\n",
              "    <tr>\n",
              "      <th>2018-11-24</th>\n",
              "      <td>189</td>\n",
              "      <td>5</td>\n",
              "      <td>11</td>\n",
              "      <td>-0.488889</td>\n",
              "    </tr>\n",
              "    <tr>\n",
              "      <th>2018-11-25</th>\n",
              "      <td>76</td>\n",
              "      <td>6</td>\n",
              "      <td>11</td>\n",
              "      <td>-0.907407</td>\n",
              "    </tr>\n",
              "    <tr>\n",
              "      <th>2018-11-26</th>\n",
              "      <td>276</td>\n",
              "      <td>0</td>\n",
              "      <td>11</td>\n",
              "      <td>-0.166667</td>\n",
              "    </tr>\n",
              "    <tr>\n",
              "      <th>2018-11-27</th>\n",
              "      <td>220</td>\n",
              "      <td>1</td>\n",
              "      <td>11</td>\n",
              "      <td>-0.374074</td>\n",
              "    </tr>\n",
              "    <tr>\n",
              "      <th>2018-11-28</th>\n",
              "      <td>183</td>\n",
              "      <td>2</td>\n",
              "      <td>11</td>\n",
              "      <td>-0.511111</td>\n",
              "    </tr>\n",
              "    <tr>\n",
              "      <th>2018-11-29</th>\n",
              "      <td>251</td>\n",
              "      <td>3</td>\n",
              "      <td>11</td>\n",
              "      <td>-0.259259</td>\n",
              "    </tr>\n",
              "    <tr>\n",
              "      <th>2018-11-30</th>\n",
              "      <td>189</td>\n",
              "      <td>4</td>\n",
              "      <td>11</td>\n",
              "      <td>-0.488889</td>\n",
              "    </tr>\n",
              "  </tbody>\n",
              "</table>\n",
              "</div>"
            ],
            "text/plain": [
              "            unidades  weekday  month    scaled\n",
              "fecha                                         \n",
              "2018-11-16       152        4     11 -0.625926\n",
              "2018-11-17       111        5     11 -0.777778\n",
              "2018-11-19       207        0     11 -0.422222\n",
              "2018-11-20       206        1     11 -0.425926\n",
              "2018-11-21       183        2     11 -0.511111\n",
              "2018-11-22       200        3     11 -0.448148\n",
              "2018-11-23       187        4     11 -0.496296\n",
              "2018-11-24       189        5     11 -0.488889\n",
              "2018-11-25        76        6     11 -0.907407\n",
              "2018-11-26       276        0     11 -0.166667\n",
              "2018-11-27       220        1     11 -0.374074\n",
              "2018-11-28       183        2     11 -0.511111\n",
              "2018-11-29       251        3     11 -0.259259\n",
              "2018-11-30       189        4     11 -0.488889"
            ]
          },
          "metadata": {},
          "execution_count": 18
        }
      ]
    },
    {
      "cell_type": "code",
      "source": [
        "##PREPARAMOS LOS DATOS PARA TESTS\n",
        "scalerdMerge=ultimosDias.drop(\"unidades\",axis=1)\n",
        "print(scaledMerge.values)\n",
        "\n",
        "# marco como aprendizaje supervisado\n",
        "reframed=series_to_supervised(scaledMerge,PASOS,1)\n",
        "newReframed=reframed.drop([\"var1(t)\",\"var2(t)\",\"var3(t)\"],axis=1)\n",
        "newReframed.head(7)"
      ],
      "metadata": {
        "colab": {
          "base_uri": "https://localhost:8080/",
          "height": 579
        },
        "id": "w304fUfU3MVK",
        "outputId": "0920a301-4a72-4832-eb4c-251f90ed7826"
      },
      "execution_count": null,
      "outputs": [
        {
          "output_type": "stream",
          "name": "stdout",
          "text": [
            "[[ 0.          1.         -0.31481487]\n",
            " [ 1.          1.         -0.31111115]\n",
            " [ 2.          1.         -0.11481488]\n",
            " ...\n",
            " [ 2.         11.         -0.51111114]\n",
            " [ 3.         11.         -0.25925928]\n",
            " [ 4.         11.         -0.48888892]]\n"
          ]
        },
        {
          "output_type": "execute_result",
          "data": {
            "text/html": [
              "<div>\n",
              "<style scoped>\n",
              "    .dataframe tbody tr th:only-of-type {\n",
              "        vertical-align: middle;\n",
              "    }\n",
              "\n",
              "    .dataframe tbody tr th {\n",
              "        vertical-align: top;\n",
              "    }\n",
              "\n",
              "    .dataframe thead th {\n",
              "        text-align: right;\n",
              "    }\n",
              "</style>\n",
              "<table border=\"1\" class=\"dataframe\">\n",
              "  <thead>\n",
              "    <tr style=\"text-align: right;\">\n",
              "      <th></th>\n",
              "      <th>var1(t-7)</th>\n",
              "      <th>var2(t-7)</th>\n",
              "      <th>var3(t-7)</th>\n",
              "      <th>var1(t-6)</th>\n",
              "      <th>var2(t-6)</th>\n",
              "      <th>var3(t-6)</th>\n",
              "      <th>var1(t-5)</th>\n",
              "      <th>var2(t-5)</th>\n",
              "      <th>var3(t-5)</th>\n",
              "      <th>var1(t-4)</th>\n",
              "      <th>var2(t-4)</th>\n",
              "      <th>var3(t-4)</th>\n",
              "      <th>var1(t-3)</th>\n",
              "      <th>var2(t-3)</th>\n",
              "      <th>var3(t-3)</th>\n",
              "      <th>var1(t-2)</th>\n",
              "      <th>var2(t-2)</th>\n",
              "      <th>var3(t-2)</th>\n",
              "      <th>var1(t-1)</th>\n",
              "      <th>var2(t-1)</th>\n",
              "      <th>var3(t-1)</th>\n",
              "    </tr>\n",
              "    <tr>\n",
              "      <th>fecha</th>\n",
              "      <th></th>\n",
              "      <th></th>\n",
              "      <th></th>\n",
              "      <th></th>\n",
              "      <th></th>\n",
              "      <th></th>\n",
              "      <th></th>\n",
              "      <th></th>\n",
              "      <th></th>\n",
              "      <th></th>\n",
              "      <th></th>\n",
              "      <th></th>\n",
              "      <th></th>\n",
              "      <th></th>\n",
              "      <th></th>\n",
              "      <th></th>\n",
              "      <th></th>\n",
              "      <th></th>\n",
              "      <th></th>\n",
              "      <th></th>\n",
              "      <th></th>\n",
              "    </tr>\n",
              "  </thead>\n",
              "  <tbody>\n",
              "    <tr>\n",
              "      <th>2017-01-11</th>\n",
              "      <td>0.0</td>\n",
              "      <td>1.0</td>\n",
              "      <td>-0.314815</td>\n",
              "      <td>1.0</td>\n",
              "      <td>1.0</td>\n",
              "      <td>-0.311111</td>\n",
              "      <td>2.0</td>\n",
              "      <td>1.0</td>\n",
              "      <td>-0.114815</td>\n",
              "      <td>3.0</td>\n",
              "      <td>1.0</td>\n",
              "      <td>-0.370370</td>\n",
              "      <td>5.0</td>\n",
              "      <td>1.0</td>\n",
              "      <td>-0.714815</td>\n",
              "      <td>0.0</td>\n",
              "      <td>1.0</td>\n",
              "      <td>-0.103704</td>\n",
              "      <td>1.0</td>\n",
              "      <td>1.0</td>\n",
              "      <td>-0.225926</td>\n",
              "    </tr>\n",
              "    <tr>\n",
              "      <th>2017-01-12</th>\n",
              "      <td>1.0</td>\n",
              "      <td>1.0</td>\n",
              "      <td>-0.311111</td>\n",
              "      <td>2.0</td>\n",
              "      <td>1.0</td>\n",
              "      <td>-0.114815</td>\n",
              "      <td>3.0</td>\n",
              "      <td>1.0</td>\n",
              "      <td>-0.370370</td>\n",
              "      <td>5.0</td>\n",
              "      <td>1.0</td>\n",
              "      <td>-0.714815</td>\n",
              "      <td>0.0</td>\n",
              "      <td>1.0</td>\n",
              "      <td>-0.103704</td>\n",
              "      <td>1.0</td>\n",
              "      <td>1.0</td>\n",
              "      <td>-0.225926</td>\n",
              "      <td>2.0</td>\n",
              "      <td>1.0</td>\n",
              "      <td>-0.433333</td>\n",
              "    </tr>\n",
              "    <tr>\n",
              "      <th>2017-01-13</th>\n",
              "      <td>2.0</td>\n",
              "      <td>1.0</td>\n",
              "      <td>-0.114815</td>\n",
              "      <td>3.0</td>\n",
              "      <td>1.0</td>\n",
              "      <td>-0.370370</td>\n",
              "      <td>5.0</td>\n",
              "      <td>1.0</td>\n",
              "      <td>-0.714815</td>\n",
              "      <td>0.0</td>\n",
              "      <td>1.0</td>\n",
              "      <td>-0.103704</td>\n",
              "      <td>1.0</td>\n",
              "      <td>1.0</td>\n",
              "      <td>-0.225926</td>\n",
              "      <td>2.0</td>\n",
              "      <td>1.0</td>\n",
              "      <td>-0.433333</td>\n",
              "      <td>3.0</td>\n",
              "      <td>1.0</td>\n",
              "      <td>-0.607407</td>\n",
              "    </tr>\n",
              "    <tr>\n",
              "      <th>2017-01-14</th>\n",
              "      <td>3.0</td>\n",
              "      <td>1.0</td>\n",
              "      <td>-0.370370</td>\n",
              "      <td>5.0</td>\n",
              "      <td>1.0</td>\n",
              "      <td>-0.714815</td>\n",
              "      <td>0.0</td>\n",
              "      <td>1.0</td>\n",
              "      <td>-0.103704</td>\n",
              "      <td>1.0</td>\n",
              "      <td>1.0</td>\n",
              "      <td>-0.225926</td>\n",
              "      <td>2.0</td>\n",
              "      <td>1.0</td>\n",
              "      <td>-0.433333</td>\n",
              "      <td>3.0</td>\n",
              "      <td>1.0</td>\n",
              "      <td>-0.607407</td>\n",
              "      <td>4.0</td>\n",
              "      <td>1.0</td>\n",
              "      <td>-0.522222</td>\n",
              "    </tr>\n",
              "    <tr>\n",
              "      <th>2017-01-16</th>\n",
              "      <td>5.0</td>\n",
              "      <td>1.0</td>\n",
              "      <td>-0.714815</td>\n",
              "      <td>0.0</td>\n",
              "      <td>1.0</td>\n",
              "      <td>-0.103704</td>\n",
              "      <td>1.0</td>\n",
              "      <td>1.0</td>\n",
              "      <td>-0.225926</td>\n",
              "      <td>2.0</td>\n",
              "      <td>1.0</td>\n",
              "      <td>-0.433333</td>\n",
              "      <td>3.0</td>\n",
              "      <td>1.0</td>\n",
              "      <td>-0.607407</td>\n",
              "      <td>4.0</td>\n",
              "      <td>1.0</td>\n",
              "      <td>-0.522222</td>\n",
              "      <td>5.0</td>\n",
              "      <td>1.0</td>\n",
              "      <td>-0.644444</td>\n",
              "    </tr>\n",
              "    <tr>\n",
              "      <th>2017-01-17</th>\n",
              "      <td>0.0</td>\n",
              "      <td>1.0</td>\n",
              "      <td>-0.103704</td>\n",
              "      <td>1.0</td>\n",
              "      <td>1.0</td>\n",
              "      <td>-0.225926</td>\n",
              "      <td>2.0</td>\n",
              "      <td>1.0</td>\n",
              "      <td>-0.433333</td>\n",
              "      <td>3.0</td>\n",
              "      <td>1.0</td>\n",
              "      <td>-0.607407</td>\n",
              "      <td>4.0</td>\n",
              "      <td>1.0</td>\n",
              "      <td>-0.522222</td>\n",
              "      <td>5.0</td>\n",
              "      <td>1.0</td>\n",
              "      <td>-0.644444</td>\n",
              "      <td>0.0</td>\n",
              "      <td>1.0</td>\n",
              "      <td>-0.344444</td>\n",
              "    </tr>\n",
              "    <tr>\n",
              "      <th>2017-01-18</th>\n",
              "      <td>1.0</td>\n",
              "      <td>1.0</td>\n",
              "      <td>-0.225926</td>\n",
              "      <td>2.0</td>\n",
              "      <td>1.0</td>\n",
              "      <td>-0.433333</td>\n",
              "      <td>3.0</td>\n",
              "      <td>1.0</td>\n",
              "      <td>-0.607407</td>\n",
              "      <td>4.0</td>\n",
              "      <td>1.0</td>\n",
              "      <td>-0.522222</td>\n",
              "      <td>5.0</td>\n",
              "      <td>1.0</td>\n",
              "      <td>-0.644444</td>\n",
              "      <td>0.0</td>\n",
              "      <td>1.0</td>\n",
              "      <td>-0.344444</td>\n",
              "      <td>1.0</td>\n",
              "      <td>1.0</td>\n",
              "      <td>-0.303704</td>\n",
              "    </tr>\n",
              "  </tbody>\n",
              "</table>\n",
              "</div>"
            ],
            "text/plain": [
              "            var1(t-7)  var2(t-7)  var3(t-7)  ...  var1(t-1)  var2(t-1)  var3(t-1)\n",
              "fecha                                        ...                                 \n",
              "2017-01-11        0.0        1.0  -0.314815  ...        1.0        1.0  -0.225926\n",
              "2017-01-12        1.0        1.0  -0.311111  ...        2.0        1.0  -0.433333\n",
              "2017-01-13        2.0        1.0  -0.114815  ...        3.0        1.0  -0.607407\n",
              "2017-01-14        3.0        1.0  -0.370370  ...        4.0        1.0  -0.522222\n",
              "2017-01-16        5.0        1.0  -0.714815  ...        5.0        1.0  -0.644444\n",
              "2017-01-17        0.0        1.0  -0.103704  ...        0.0        1.0  -0.344444\n",
              "2017-01-18        1.0        1.0  -0.225926  ...        1.0        1.0  -0.303704\n",
              "\n",
              "[7 rows x 21 columns]"
            ]
          },
          "metadata": {},
          "execution_count": 19
        }
      ]
    },
    {
      "cell_type": "code",
      "source": [
        "values=newReframed.values\n",
        "x_test= values[6:,:]\n",
        "x_test = x_test.reshape((x_test.shape[0],1,x_test.shape[1]))\n",
        "print(x_test.shape)\n",
        "print(x_test)\n",
        "ultDiaSemana=newReframed.index[len(newReframed.index)-1].weekday()"
      ],
      "metadata": {
        "id": "DQV2AVJx5gbi",
        "colab": {
          "base_uri": "https://localhost:8080/"
        },
        "outputId": "3c970c65-7496-4099-80b7-e7c9278a3851"
      },
      "execution_count": null,
      "outputs": [
        {
          "output_type": "stream",
          "name": "stdout",
          "text": [
            "(591, 1, 21)\n",
            "[[[ 1.          1.         -0.22592598 ...  1.          1.\n",
            "   -0.30370373]]\n",
            "\n",
            " [[ 2.          1.         -0.43333334 ...  2.          1.\n",
            "   -0.47407413]]\n",
            "\n",
            " [[ 3.          1.         -0.60740745 ...  3.          1.\n",
            "   -0.45925927]]\n",
            "\n",
            " ...\n",
            "\n",
            " [[ 2.         11.         -0.51111114 ...  1.         11.\n",
            "   -0.3740741 ]]\n",
            "\n",
            " [[ 3.         11.         -0.44814819 ...  2.         11.\n",
            "   -0.51111114]]\n",
            "\n",
            " [[ 4.         11.         -0.49629635 ...  3.         11.\n",
            "   -0.25925928]]]\n"
          ]
        }
      ]
    },
    {
      "cell_type": "code",
      "source": [
        "def agregarNuevoValor(x_test,nuevoValor,ultDiaSemana):\n",
        "  for i in range(x_test.shape[2]-3):\n",
        "    x_test[0][0][i]=x_test[0][0][i+3]\n",
        "    ultDiaSemana=ultDiaSemana+1\n",
        "  if ultDiaSemana>6:\n",
        "    ultDiaSemana=0\n",
        "  x_test[0][0][x_test.shape[2]-3]=ultDiaSemana\n",
        "  x_test[0][0][x_test.shape[2]-2]=12\n",
        "  x_test[0][0][x_test.shape[2]-1]=nuevoValor\n",
        "  return x_test,ultDiaSemana"
      ],
      "metadata": {
        "id": "LfpMp4iT61eS"
      },
      "execution_count": null,
      "outputs": []
    },
    {
      "cell_type": "code",
      "source": [
        "#Pronostico para la \"proxima semana\"\n",
        "results=[]\n",
        "for i in range(7):\n",
        "  parcial=model.predict(x_test)\n",
        "  results.append(parcial[0])\n",
        "  print(\"pred\",i,x_test)\n",
        "  x_test,ultDiaSemana=agregarNuevoValor(x_test,parcial[0],ultDiaSemana)"
      ],
      "metadata": {
        "colab": {
          "base_uri": "https://localhost:8080/"
        },
        "id": "_sed7m2V6PBr",
        "outputId": "b1bee1fe-771c-447c-f800-2689bb4279b8"
      },
      "execution_count": null,
      "outputs": [
        {
          "output_type": "stream",
          "name": "stdout",
          "text": [
            "pred 0 [[[ 1.          1.         -0.22592598 ...  1.          1.\n",
            "   -0.30370373]]\n",
            "\n",
            " [[ 2.          1.         -0.43333334 ...  2.          1.\n",
            "   -0.47407413]]\n",
            "\n",
            " [[ 3.          1.         -0.60740745 ...  3.          1.\n",
            "   -0.45925927]]\n",
            "\n",
            " ...\n",
            "\n",
            " [[ 2.         11.         -0.51111114 ...  1.         11.\n",
            "   -0.3740741 ]]\n",
            "\n",
            " [[ 3.         11.         -0.44814819 ...  2.         11.\n",
            "   -0.51111114]]\n",
            "\n",
            " [[ 4.         11.         -0.49629635 ...  3.         11.\n",
            "   -0.25925928]]]\n",
            "pred 1 [[[ 2.          1.         -0.43333334 ...  0.         12.\n",
            "   -0.47061971]]\n",
            "\n",
            " [[ 2.          1.         -0.43333334 ...  2.          1.\n",
            "   -0.47407413]]\n",
            "\n",
            " [[ 3.          1.         -0.60740745 ...  3.          1.\n",
            "   -0.45925927]]\n",
            "\n",
            " ...\n",
            "\n",
            " [[ 2.         11.         -0.51111114 ...  1.         11.\n",
            "   -0.3740741 ]]\n",
            "\n",
            " [[ 3.         11.         -0.44814819 ...  2.         11.\n",
            "   -0.51111114]]\n",
            "\n",
            " [[ 4.         11.         -0.49629635 ...  3.         11.\n",
            "   -0.25925928]]]\n",
            "pred 2 [[[ 3.          1.         -0.60740745 ...  0.         12.\n",
            "   -0.73980802]]\n",
            "\n",
            " [[ 2.          1.         -0.43333334 ...  2.          1.\n",
            "   -0.47407413]]\n",
            "\n",
            " [[ 3.          1.         -0.60740745 ...  3.          1.\n",
            "   -0.45925927]]\n",
            "\n",
            " ...\n",
            "\n",
            " [[ 2.         11.         -0.51111114 ...  1.         11.\n",
            "   -0.3740741 ]]\n",
            "\n",
            " [[ 3.         11.         -0.44814819 ...  2.         11.\n",
            "   -0.51111114]]\n",
            "\n",
            " [[ 4.         11.         -0.49629635 ...  3.         11.\n",
            "   -0.25925928]]]\n",
            "pred 3 [[[ 4.          1.         -0.52222228 ...  0.         12.\n",
            "   -0.96110862]]\n",
            "\n",
            " [[ 2.          1.         -0.43333334 ...  2.          1.\n",
            "   -0.47407413]]\n",
            "\n",
            " [[ 3.          1.         -0.60740745 ...  3.          1.\n",
            "   -0.45925927]]\n",
            "\n",
            " ...\n",
            "\n",
            " [[ 2.         11.         -0.51111114 ...  1.         11.\n",
            "   -0.3740741 ]]\n",
            "\n",
            " [[ 3.         11.         -0.44814819 ...  2.         11.\n",
            "   -0.51111114]]\n",
            "\n",
            " [[ 4.         11.         -0.49629635 ...  3.         11.\n",
            "   -0.25925928]]]\n",
            "pred 4 [[[ 5.          1.         -0.64444447 ...  0.         12.\n",
            "   -0.96105534]]\n",
            "\n",
            " [[ 2.          1.         -0.43333334 ...  2.          1.\n",
            "   -0.47407413]]\n",
            "\n",
            " [[ 3.          1.         -0.60740745 ...  3.          1.\n",
            "   -0.45925927]]\n",
            "\n",
            " ...\n",
            "\n",
            " [[ 2.         11.         -0.51111114 ...  1.         11.\n",
            "   -0.3740741 ]]\n",
            "\n",
            " [[ 3.         11.         -0.44814819 ...  2.         11.\n",
            "   -0.51111114]]\n",
            "\n",
            " [[ 4.         11.         -0.49629635 ...  3.         11.\n",
            "   -0.25925928]]]\n",
            "pred 5 [[[ 0.          1.         -0.34444445 ...  0.         12.\n",
            "   -0.91614276]]\n",
            "\n",
            " [[ 2.          1.         -0.43333334 ...  2.          1.\n",
            "   -0.47407413]]\n",
            "\n",
            " [[ 3.          1.         -0.60740745 ...  3.          1.\n",
            "   -0.45925927]]\n",
            "\n",
            " ...\n",
            "\n",
            " [[ 2.         11.         -0.51111114 ...  1.         11.\n",
            "   -0.3740741 ]]\n",
            "\n",
            " [[ 3.         11.         -0.44814819 ...  2.         11.\n",
            "   -0.51111114]]\n",
            "\n",
            " [[ 4.         11.         -0.49629635 ...  3.         11.\n",
            "   -0.25925928]]]\n",
            "pred 6 [[[ 1.          1.         -0.30370373 ...  0.         12.\n",
            "   -0.9618662 ]]\n",
            "\n",
            " [[ 2.          1.         -0.43333334 ...  2.          1.\n",
            "   -0.47407413]]\n",
            "\n",
            " [[ 3.          1.         -0.60740745 ...  3.          1.\n",
            "   -0.45925927]]\n",
            "\n",
            " ...\n",
            "\n",
            " [[ 2.         11.         -0.51111114 ...  1.         11.\n",
            "   -0.3740741 ]]\n",
            "\n",
            " [[ 3.         11.         -0.44814819 ...  2.         11.\n",
            "   -0.51111114]]\n",
            "\n",
            " [[ 4.         11.         -0.49629635 ...  3.         11.\n",
            "   -0.25925928]]]\n"
          ]
        }
      ]
    },
    {
      "cell_type": "code",
      "source": [
        "# Re-convertimos los resultados\n",
        "adimen= [x for x in results]\n",
        "print(adimen)\n",
        "inverted=scaler.inverse_transform(adimen)\n",
        "inverted"
      ],
      "metadata": {
        "colab": {
          "base_uri": "https://localhost:8080/"
        },
        "id": "q24yCJ6b7xvS",
        "outputId": "18d888f2-8c44-43ee-b1b3-182404ba8351"
      },
      "execution_count": null,
      "outputs": [
        {
          "output_type": "stream",
          "name": "stdout",
          "text": [
            "[array([-0.4706197], dtype=float32), array([-0.739808], dtype=float32), array([-0.9611086], dtype=float32), array([-0.96105534], dtype=float32), array([-0.91614276], dtype=float32), array([-0.9618662], dtype=float32), array([-0.9010615], dtype=float32)]\n"
          ]
        },
        {
          "output_type": "execute_result",
          "data": {
            "text/plain": [
              "array([[193.9326872 ],\n",
              "       [121.25184095],\n",
              "       [ 61.50067736],\n",
              "       [ 61.51506473],\n",
              "       [ 73.64146065],\n",
              "       [ 61.2961321 ],\n",
              "       [ 77.71340806]])"
            ]
          },
          "metadata": {},
          "execution_count": 24
        }
      ]
    },
    {
      "cell_type": "code",
      "source": [
        "#Visualizamos el pronóstico\n",
        "prediccion1SemanaDiciembre=pd.DataFrame(inverted)\n",
        "prediccion1SemanaDiciembre.columns=[\"pronostico\"]\n",
        "prediccion1SemanaDiciembre.plot()\n",
        "prediccion1SemanaDiciembre.to_csv(\"pronostico_multivariante.csv\")"
      ],
      "metadata": {
        "colab": {
          "base_uri": "https://localhost:8080/",
          "height": 539
        },
        "id": "zQSTzfBQAumF",
        "outputId": "ead3e959-8d15-43ed-b5c3-2161af6bf7ae"
      },
      "execution_count": null,
      "outputs": [
        {
          "output_type": "display_data",
          "data": {
            "image/png": "[encoded data removed]",
            "text/plain": [
              "<Figure size 1152x648 with 1 Axes>"
            ]
          },
          "metadata": {
            "needs_background": "light"
          }
        }
      ]
    },
    {
      "cell_type": "code",
      "source": [
        "prediccion1SemanaDiciembre"
      ],
      "metadata": {
        "id": "ZrP2mzz-BF33",
        "outputId": "a9d8154a-c84c-454d-e9f3-993ae61e83ba",
        "colab": {
          "base_uri": "https://localhost:8080/",
          "height": 268
        }
      },
      "execution_count": null,
      "outputs": [
        {
          "output_type": "execute_result",
          "data": {
            "text/html": [
              "<div>\n",
              "<style scoped>\n",
              "    .dataframe tbody tr th:only-of-type {\n",
              "        vertical-align: middle;\n",
              "    }\n",
              "\n",
              "    .dataframe tbody tr th {\n",
              "        vertical-align: top;\n",
              "    }\n",
              "\n",
              "    .dataframe thead th {\n",
              "        text-align: right;\n",
              "    }\n",
              "</style>\n",
              "<table border=\"1\" class=\"dataframe\">\n",
              "  <thead>\n",
              "    <tr style=\"text-align: right;\">\n",
              "      <th></th>\n",
              "      <th>pronostico</th>\n",
              "    </tr>\n",
              "  </thead>\n",
              "  <tbody>\n",
              "    <tr>\n",
              "      <th>0</th>\n",
              "      <td>193.932687</td>\n",
              "    </tr>\n",
              "    <tr>\n",
              "      <th>1</th>\n",
              "      <td>121.251841</td>\n",
              "    </tr>\n",
              "    <tr>\n",
              "      <th>2</th>\n",
              "      <td>61.500677</td>\n",
              "    </tr>\n",
              "    <tr>\n",
              "      <th>3</th>\n",
              "      <td>61.515065</td>\n",
              "    </tr>\n",
              "    <tr>\n",
              "      <th>4</th>\n",
              "      <td>73.641461</td>\n",
              "    </tr>\n",
              "    <tr>\n",
              "      <th>5</th>\n",
              "      <td>61.296132</td>\n",
              "    </tr>\n",
              "    <tr>\n",
              "      <th>6</th>\n",
              "      <td>77.713408</td>\n",
              "    </tr>\n",
              "  </tbody>\n",
              "</table>\n",
              "</div>"
            ],
            "text/plain": [
              "   pronostico\n",
              "0  193.932687\n",
              "1  121.251841\n",
              "2   61.500677\n",
              "3   61.515065\n",
              "4   73.641461\n",
              "5   61.296132\n",
              "6   77.713408"
            ]
          },
          "metadata": {},
          "execution_count": 26
        }
      ]
    }
  ]
}